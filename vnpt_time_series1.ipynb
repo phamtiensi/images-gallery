{
  "cells": [
    {
      "cell_type": "markdown",
      "metadata": {
        "id": "view-in-github",
        "colab_type": "text"
      },
      "source": [
        "<a href=\"https://colab.research.google.com/github/phamtiensi/images-gallery/blob/main/vnpt_time_series1.ipynb\" target=\"_parent\"><img src=\"https://colab.research.google.com/assets/colab-badge.svg\" alt=\"Open In Colab\"/></a>"
      ]
    },
    {
      "cell_type": "markdown",
      "metadata": {
        "id": "jr3M4SRi1f3s"
      },
      "source": [
        "\n",
        "\n",
        "```\n",
        "Author: Phalt\n",
        "Email: phalt@vnpt.vn\n",
        "```\n",
        "\n"
      ]
    },
    {
      "cell_type": "markdown",
      "source": [
        "# Data Processing"
      ],
      "metadata": {
        "id": "wLXhZwAAatu2"
      }
    },
    {
      "cell_type": "code",
      "execution_count": null,
      "metadata": {
        "colab": {
          "base_uri": "https://localhost:8080/"
        },
        "id": "GgsEtEHZ_T2Q",
        "outputId": "846e2b42-f642-4e0d-ce48-aa221a258e47"
      },
      "outputs": [
        {
          "output_type": "stream",
          "name": "stdout",
          "text": [
            "Sun Jun  5 04:00:39 2022       \n",
            "+-----------------------------------------------------------------------------+\n",
            "| NVIDIA-SMI 460.32.03    Driver Version: 460.32.03    CUDA Version: 11.2     |\n",
            "|-------------------------------+----------------------+----------------------+\n",
            "| GPU  Name        Persistence-M| Bus-Id        Disp.A | Volatile Uncorr. ECC |\n",
            "| Fan  Temp  Perf  Pwr:Usage/Cap|         Memory-Usage | GPU-Util  Compute M. |\n",
            "|                               |                      |               MIG M. |\n",
            "|===============================+======================+======================|\n",
            "|   0  Tesla T4            Off  | 00000000:00:04.0 Off |                    0 |\n",
            "| N/A   33C    P8     9W /  70W |      0MiB / 15109MiB |      0%      Default |\n",
            "|                               |                      |                  N/A |\n",
            "+-------------------------------+----------------------+----------------------+\n",
            "                                                                               \n",
            "+-----------------------------------------------------------------------------+\n",
            "| Processes:                                                                  |\n",
            "|  GPU   GI   CI        PID   Type   Process name                  GPU Memory |\n",
            "|        ID   ID                                                   Usage      |\n",
            "|=============================================================================|\n",
            "|  No running processes found                                                 |\n",
            "+-----------------------------------------------------------------------------+\n"
          ]
        }
      ],
      "source": [
        "!nvidia-smi"
      ]
    },
    {
      "cell_type": "code",
      "execution_count": 6,
      "metadata": {
        "colab": {
          "base_uri": "https://localhost:8080/"
        },
        "id": "tpIQYx7KAt7h",
        "outputId": "e117ba99-ab14-4aa4-8f1c-f552368f77a3"
      },
      "outputs": [
        {
          "output_type": "stream",
          "name": "stdout",
          "text": [
            "Drive already mounted at /content/drive; to attempt to forcibly remount, call drive.mount(\"/content/drive\", force_remount=True).\n"
          ]
        }
      ],
      "source": [
        "import os\n",
        "import datetime\n",
        "\n",
        "import IPython\n",
        "import IPython.display\n",
        "import matplotlib as mpl\n",
        "import matplotlib.pyplot as plt\n",
        "import numpy as np\n",
        "import pandas as pd\n",
        "import seaborn as sns\n",
        "import tensorflow as tf\n",
        "\n",
        "# Load the Drive helper and mount\n",
        "from google.colab import drive\n",
        "drive.mount('/content/drive')\n",
        "\n",
        "mpl.rcParams['figure.figsize'] = (8, 6)\n",
        "mpl.rcParams['axes.grid'] = False"
      ]
    },
    {
      "cell_type": "markdown",
      "metadata": {
        "id": "Lw0wmvk_0IxA"
      },
      "source": [
        "**Data Preprocessing**"
      ]
    },
    {
      "cell_type": "code",
      "execution_count": 8,
      "metadata": {
        "colab": {
          "base_uri": "https://localhost:8080/"
        },
        "id": "C8Rx-24KVB1o",
        "outputId": "a3baa553-00c4-4d97-c7e1-21166acef6a5"
      },
      "outputs": [
        {
          "output_type": "execute_result",
          "data": {
            "text/plain": [
              "2"
            ]
          },
          "metadata": {},
          "execution_count": 8
        }
      ],
      "source": [
        "full_df = []\n",
        "for item in os.listdir('/content/drive/MyDrive/lab/')[:]:\n",
        "  csv_path = '/content/drive/MyDrive/lab/'+item\n",
        "  df = pd.read_csv(csv_path)\n",
        "  for col in df.columns.values.tolist()[2:]:\n",
        "    df[col].fillna(df[col].mean(), inplace=True)\n",
        "  if not df.isnull().values.any():\n",
        "    full_df.append(df)\n",
        "df_full = pd.concat(full_df)\n",
        "len(full_df)"
      ]
    },
    {
      "cell_type": "code",
      "source": [
        "df_full.isnull().values.any()\n"
      ],
      "metadata": {
        "colab": {
          "base_uri": "https://localhost:8080/"
        },
        "id": "d33j8LuFEj4p",
        "outputId": "883f1376-2305-4ce8-f2c4-2585215fe9bc"
      },
      "execution_count": 9,
      "outputs": [
        {
          "output_type": "execute_result",
          "data": {
            "text/plain": [
              "False"
            ]
          },
          "metadata": {},
          "execution_count": 9
        }
      ]
    },
    {
      "cell_type": "code",
      "source": [
        "col_name = df.columns.values.tolist()[1:]"
      ],
      "metadata": {
        "id": "QqBPP9RkCJUY"
      },
      "execution_count": 10,
      "outputs": []
    },
    {
      "cell_type": "code",
      "source": [
        "col_name"
      ],
      "metadata": {
        "colab": {
          "base_uri": "https://localhost:8080/"
        },
        "id": "TluJQIx_CZDb",
        "outputId": "c36eaa09-024e-4943-a426-c5dc859fa61b"
      },
      "execution_count": 11,
      "outputs": [
        {
          "output_type": "execute_result",
          "data": {
            "text/plain": [
              "['STA_DATETIME',\n",
              " 'pmRrcConnEstabSucc',\n",
              " 'pmRrcConnEstabAtt',\n",
              " 'pmRrcConnEstabAttReatt',\n",
              " 'pmS1SigConnEstabSucc',\n",
              " 'pmS1SigConnEstabAtt',\n",
              " 'pmErabEstabSuccInit',\n",
              " 'pmErabEstabAttInit',\n",
              " 'pmHoPrepSuccLteIntraF',\n",
              " 'pmHoPrepAttLteIntraF',\n",
              " 'pmHoExeSuccLteIntraF',\n",
              " 'pmHoExeAttLteIntraF',\n",
              " 'pmErabRelAbnormalEnbAct',\n",
              " 'pmErabRelAbnormalMmeAct',\n",
              " 'pmErabRelAbnormalEnb',\n",
              " 'pmErabRelNormalEnb',\n",
              " 'pmErabRelMme',\n",
              " 'CSSR',\n",
              " 'INTRA_FREQUENCY_HO',\n",
              " 'SERVICE_DROP_ALL',\n",
              " 'TRAFFIC',\n",
              " 'USER_DL_AVG_THPUT']"
            ]
          },
          "metadata": {},
          "execution_count": 11
        }
      ]
    },
    {
      "cell_type": "code",
      "execution_count": 12,
      "metadata": {
        "id": "M9EY-FizZyIF"
      },
      "outputs": [],
      "source": [
        "train_full = []\n",
        "val_full = []\n",
        "test_full = []\n",
        "\n",
        "for df in full_df:\n",
        "  cols = col_name\n",
        "  df = df[cols]\n",
        "  date_time = pd.to_datetime(df.pop('STA_DATETIME'), format='%Y-%m-%d %H:%M:%S')\n",
        "  \n",
        "  timestamp_s = date_time.map(pd.Timestamp.timestamp)\n",
        "  day = 24*60*60\n",
        "  year = (365.2425)*day\n",
        "\n",
        "  # df['Day sin'] = np.sin(timestamp_s * (2 * np.pi / day))\n",
        "  # df['Day cos'] = np.cos(timestamp_s * (2 * np.pi / day))\n",
        "  # df['Year sin'] = np.sin(timestamp_s * (2 * np.pi / year))\n",
        "  # df['Year cos'] = np.cos(timestamp_s * (2 * np.pi / year))\n",
        "\n",
        "  n = len(df)\n",
        "  train_df = df[0:int(n*0.7)]\n",
        "  val_df = df[int(n*0.7):int(n*0.9)]\n",
        "  test_df = df[int(n*0.9):]\n",
        "\n",
        "  train_full.append(train_df)\n",
        "  val_full.append(val_df)\n",
        "  test_full.append(test_df)"
      ]
    },
    {
      "cell_type": "code",
      "execution_count": 13,
      "metadata": {
        "id": "43P2a2s4bHQ6"
      },
      "outputs": [],
      "source": [
        "train_full_df = pd.concat(train_full)\n",
        "train_mean = train_full_df.mean()\n",
        "train_std = train_full_df.std()"
      ]
    },
    {
      "cell_type": "code",
      "execution_count": null,
      "metadata": {
        "id": "Ge2WgPBKbctd"
      },
      "outputs": [],
      "source": [
        "for index in range (len(train_full)):\n",
        "  train_full[index] = (train_full[index] - train_mean) / train_std\n",
        "  val_full[index] = (val_full[index] - train_mean) / train_std\n",
        "  test_full[index] = (test_full[index] - train_mean) / train_std"
      ]
    },
    {
      "cell_type": "markdown",
      "metadata": {
        "id": "lKGZsViW0OBB"
      },
      "source": [
        "**Labeling**"
      ]
    },
    {
      "cell_type": "code",
      "execution_count": 14,
      "metadata": {
        "id": "C-31wXxcBVBc",
        "colab": {
          "base_uri": "https://localhost:8080/"
        },
        "outputId": "b8246c5b-fa30-4355-a40c-9a78ff2eb4c4"
      },
      "outputs": [
        {
          "output_type": "execute_result",
          "data": {
            "text/plain": [
              "21"
            ]
          },
          "metadata": {},
          "execution_count": 14
        }
      ],
      "source": [
        "column_indices = {name: i for i, name in enumerate(train_full[0].columns)}\n",
        "\n",
        "num_features = train_full[0].shape[1]\n",
        "num_features"
      ]
    },
    {
      "cell_type": "code",
      "execution_count": 18,
      "metadata": {
        "id": "4BQi0yuXBd3d"
      },
      "outputs": [],
      "source": [
        "class WindowGenerator():\n",
        "  def __init__(self, input_width, label_width, shift,\n",
        "               train_df=None, val_df=None, test_df=None,\n",
        "               label_columns=None):\n",
        "    #Store the raw data.\n",
        "    self.train_df = train_df\n",
        "    self.val_df = val_df\n",
        "    self.test_df = test_df\n",
        "\n",
        "    # Work out the label column indices.\n",
        "    self.label_columns = label_columns\n",
        "    if label_columns is not None:\n",
        "      self.label_columns_indices = {name: i for i, name in\n",
        "                                    enumerate(label_columns)}\n",
        "\n",
        "    self.column_indices = {name: i for i, name in\n",
        "                           enumerate(train_df[0].columns)}\n",
        "\n",
        "    # Work out the window parameters.\n",
        "    self.input_width = input_width\n",
        "    self.label_width = label_width\n",
        "    self.shift = shift\n",
        "\n",
        "    self.total_window_size = input_width + shift\n",
        "\n",
        "    self.input_slice = slice(0, input_width)\n",
        "    self.input_indices = np.arange(self.total_window_size)[self.input_slice]\n",
        "\n",
        "    self.label_start = self.total_window_size - self.label_width\n",
        "    self.labels_slice = slice(self.label_start, None)\n",
        "    self.label_indices = np.arange(self.total_window_size)[self.labels_slice]\n",
        "\n",
        "  def split_window(self, features):\n",
        "    inputs = features[:, self.input_slice, :]\n",
        "    labels = features[:, self.labels_slice, :]\n",
        "    if self.label_columns is not None:\n",
        "      labels = tf.stack(\n",
        "          [labels[:, :, self.column_indices[name]] for name in self.label_columns],\n",
        "          axis=-1)\n",
        "\n",
        "    # Slicing doesn't preserve static shape information, so set the shapes\n",
        "    # manually. This way the `tf.data.Datasets` are easier to inspect.\n",
        "    inputs.set_shape([None, self.input_width, None])\n",
        "    labels.set_shape([None, self.label_width, None])\n",
        "    \n",
        "    return inputs, labels\n",
        "\n",
        "  def plot(self, model=None, plot_col= None, max_subplots=3):\n",
        "    inputs, labels = self.example\n",
        "    plt.figure(figsize=(12, 8))\n",
        "    plot_col_index = self.column_indices[plot_col]\n",
        "    max_n = min(max_subplots, len(inputs))\n",
        "    for n in range(max_n):\n",
        "      plt.subplot(max_n, 1, n+1)\n",
        "      plt.ylabel(f'{plot_col} [normed]')\n",
        "      plt.plot(self.input_indices, inputs[n, :, plot_col_index],\n",
        "              label='Inputs', marker='.', zorder=-10)\n",
        "\n",
        "      if self.label_columns:\n",
        "        label_col_index = self.label_columns_indices.get(plot_col, None)\n",
        "      else:\n",
        "        label_col_index = plot_col_index\n",
        "\n",
        "      if label_col_index is None:\n",
        "        continue\n",
        "\n",
        "      plt.scatter(self.label_indices, labels[n, :, label_col_index],\n",
        "                  edgecolors='k', label='Labels', c='#2ca02c', s=64)\n",
        "      if model is not None:\n",
        "        print(inputs)\n",
        "        predictions = model(inputs)\n",
        "        print(predictions.shape)\n",
        "        plt.scatter(self.label_indices, predictions[n, :, label_col_index],\n",
        "                    marker='X', edgecolors='k', label='Predictions',\n",
        "                    c='#ff7f0e', s=64)\n",
        "\n",
        "      if n == 0:\n",
        "        plt.legend()\n",
        "\n",
        "    plt.xlabel('Time [h]')\n",
        "\n",
        "  def make_dataset(self, dataset):\n",
        "    ds_dataset = None\n",
        "    for data in dataset:\n",
        "      data = np.array(data, dtype=np.float32)\n",
        "      ds = tf.keras.preprocessing.timeseries_dataset_from_array(\n",
        "          data=data,\n",
        "          targets=None,\n",
        "          sequence_length=self.total_window_size,\n",
        "          sequence_stride=1,\n",
        "          shuffle=True,\n",
        "          batch_size=32,)\n",
        "\n",
        "      ds = ds.map(self.split_window)\n",
        "      if ds_dataset is None:\n",
        "        ds_dataset = ds\n",
        "      else:\n",
        "        ds_dataset = ds_dataset.concatenate(ds)\n",
        "    return ds_dataset\n",
        "\n",
        "  @property\n",
        "  def train(self):\n",
        "    return self.make_dataset(self.train_df)\n",
        "\n",
        "  @property\n",
        "  def val(self):\n",
        "    return self.make_dataset(self.val_df)\n",
        "\n",
        "  @property\n",
        "  def test(self):\n",
        "    return self.make_dataset(self.test_df)\n",
        "\n",
        "  @property\n",
        "  def example(self):\n",
        "    \"\"\"Get and cache an example batch of `inputs, labels` for plotting.\"\"\"\n",
        "    result = getattr(self, '_example', None)\n",
        "    if result is None:\n",
        "      # No example batch was found, so get one from the `.train` dataset\n",
        "      result = next(iter(self.train))\n",
        "      # And cache it for next time\n",
        "      self._example = result\n",
        "    return result\n",
        "  def __repr__(self):\n",
        "    return '\\n'.join([\n",
        "        f'Total window size: {self.total_window_size}',\n",
        "        f'Input indices: {self.input_indices}',\n",
        "        f'Label indices: {self.label_indices}',\n",
        "        f'Label column name(s): {self.label_columns}'])"
      ]
    },
    {
      "cell_type": "markdown",
      "source": [
        "# Warmup"
      ],
      "metadata": {
        "id": "2RTGw_FvIxsl"
      }
    },
    {
      "cell_type": "markdown",
      "metadata": {
        "id": "YSy6UQrH0e_A"
      },
      "source": [
        "**Train and Evaluation**"
      ]
    },
    {
      "cell_type": "code",
      "execution_count": 19,
      "metadata": {
        "colab": {
          "base_uri": "https://localhost:8080/",
          "height": 570
        },
        "id": "IjelFwLDitME",
        "outputId": "39ad83c9-0ce2-481b-c869-72b8d165ea24"
      },
      "outputs": [
        {
          "output_type": "execute_result",
          "data": {
            "text/plain": [
              "Total window size: 48\n",
              "Input indices: [ 0  1  2  3  4  5  6  7  8  9 10 11 12 13 14 15 16 17 18 19 20 21 22 23]\n",
              "Label indices: [24 25 26 27 28 29 30 31 32 33 34 35 36 37 38 39 40 41 42 43 44 45 46 47]\n",
              "Label column name(s): ['CSSR', 'INTRA_FREQUENCY_HO', 'SERVICE_DROP_ALL']"
            ]
          },
          "metadata": {},
          "execution_count": 19
        },
        {
          "output_type": "display_data",
          "data": {
            "text/plain": [
              "<Figure size 864x576 with 3 Axes>"
            ],
            "image/png": "[encoded data removed]"
          },
          "metadata": {
            "needs_background": "light"
          }
        }
      ],
      "source": [
        "OUT_STEPS = 24  #'cssr',\t'user_dl_avg_thput'\t,'user_ul_avg_thput','traffic','intra_frequency_ho', 'service_drop_all'\n",
        "label_columns = ['CSSR',\n",
        " 'INTRA_FREQUENCY_HO',\n",
        " 'SERVICE_DROP_ALL']\n",
        "\n",
        "num_output = len(label_columns)\n",
        "\n",
        "multi_window = WindowGenerator(input_width=24,\n",
        "                               label_width= OUT_STEPS,\n",
        "                               shift= 24,\n",
        "                               train_df=train_full, test_df=test_full, val_df=val_full, label_columns= label_columns\n",
        "                               ) #label_columns=['cssr', 'intra_frequency_ho','service_drop_all']\n",
        "\n",
        "multi_window.plot(None,'CSSR')\n",
        "multi_window"
      ]
    },
    {
      "cell_type": "code",
      "source": [
        "multi_window.example[0].shape"
      ],
      "metadata": {
        "colab": {
          "base_uri": "https://localhost:8080/"
        },
        "id": "3BOfYtInYbtU",
        "outputId": "4269a161-f7dc-4be2-ce4b-d5facf6763a4"
      },
      "execution_count": null,
      "outputs": [
        {
          "output_type": "execute_result",
          "data": {
            "text/plain": [
              "TensorShape([32, 24, 19])"
            ]
          },
          "metadata": {},
          "execution_count": 38
        }
      ]
    },
    {
      "cell_type": "code",
      "execution_count": null,
      "metadata": {
        "id": "cCfDTeBsrMVM"
      },
      "outputs": [],
      "source": [
        "multi_val_performance = {}\n",
        "multi_performance = {}"
      ]
    },
    {
      "cell_type": "code",
      "execution_count": 17,
      "metadata": {
        "colab": {
          "base_uri": "https://localhost:8080/",
          "height": 299
        },
        "id": "w5_cKpHlbhwm",
        "outputId": "b6b6cf98-ac97-49d7-f7e5-a3c415590f9b"
      },
      "outputs": [
        {
          "output_type": "execute_result",
          "data": {
            "text/plain": [
              "   pmRrcConnEstabSucc  pmRrcConnEstabAtt  pmRrcConnEstabAttReatt  \\\n",
              "0               715.0              715.0                     0.0   \n",
              "1               604.0              604.0                     0.0   \n",
              "2               524.0              524.0                     0.0   \n",
              "3               513.0              513.0                     0.0   \n",
              "4               638.0              638.0                     0.0   \n",
              "\n",
              "   pmS1SigConnEstabSucc  pmS1SigConnEstabAtt  pmErabEstabSuccInit  \\\n",
              "0                 715.0                715.0                612.0   \n",
              "1                 604.0                604.0                492.0   \n",
              "2                 524.0                524.0                410.0   \n",
              "3                 513.0                513.0                405.0   \n",
              "4                 638.0                638.0                532.0   \n",
              "\n",
              "   pmErabEstabAttInit  pmHoPrepSuccLteIntraF  pmHoPrepAttLteIntraF  \\\n",
              "0               612.0                   71.0                  71.0   \n",
              "1               492.0                   34.0                  34.0   \n",
              "2               410.0                   18.0                  18.0   \n",
              "3               405.0                   18.0                  18.0   \n",
              "4               532.0                    9.0                   9.0   \n",
              "\n",
              "   pmHoExeSuccLteIntraF  ...  pmErabRelAbnormalEnbAct  \\\n",
              "0                  71.0  ...                      0.0   \n",
              "1                  34.0  ...                      1.0   \n",
              "2                  18.0  ...                      0.0   \n",
              "3                  18.0  ...                      1.0   \n",
              "4                   9.0  ...                      1.0   \n",
              "\n",
              "   pmErabRelAbnormalMmeAct  pmErabRelAbnormalEnb  pmErabRelNormalEnb  \\\n",
              "0                      0.0                   0.0               611.0   \n",
              "1                      0.0                   1.0               492.0   \n",
              "2                      0.0                   0.0               410.0   \n",
              "3                      1.0                   1.0               402.0   \n",
              "4                      0.0                   1.0               525.0   \n",
              "\n",
              "   pmErabRelMme   CSSR  INTRA_FREQUENCY_HO  SERVICE_DROP_ALL  TRAFFIC  \\\n",
              "0          22.0  100.0               100.0           0.00000  1.06896   \n",
              "1          19.0  100.0               100.0           0.19531  0.81765   \n",
              "2          17.0  100.0               100.0           0.00000  0.38094   \n",
              "3          25.0  100.0               100.0           0.23364  0.27118   \n",
              "4          26.0  100.0               100.0           0.18116  0.48338   \n",
              "\n",
              "   USER_DL_AVG_THPUT  \n",
              "0        13018.92923  \n",
              "1        44462.06152  \n",
              "2        28898.27232  \n",
              "3        20816.61239  \n",
              "4        46380.15241  \n",
              "\n",
              "[5 rows x 21 columns]"
            ],
            "text/html": [
              "\n",
              "  <div id=\"df-433d4452-387b-41db-abe8-1a56d3a772f4\">\n",
              "    <div class=\"colab-df-container\">\n",
              "      <div>\n",
              "<style scoped>\n",
              "    .dataframe tbody tr th:only-of-type {\n",
              "        vertical-align: middle;\n",
              "    }\n",
              "\n",
              "    .dataframe tbody tr th {\n",
              "        vertical-align: top;\n",
              "    }\n",
              "\n",
              "    .dataframe thead th {\n",
              "        text-align: right;\n",
              "    }\n",
              "</style>\n",
              "<table border=\"1\" class=\"dataframe\">\n",
              "  <thead>\n",
              "    <tr style=\"text-align: right;\">\n",
              "      <th></th>\n",
              "      <th>pmRrcConnEstabSucc</th>\n",
              "      <th>pmRrcConnEstabAtt</th>\n",
              "      <th>pmRrcConnEstabAttReatt</th>\n",
              "      <th>pmS1SigConnEstabSucc</th>\n",
              "      <th>pmS1SigConnEstabAtt</th>\n",
              "      <th>pmErabEstabSuccInit</th>\n",
              "      <th>pmErabEstabAttInit</th>\n",
              "      <th>pmHoPrepSuccLteIntraF</th>\n",
              "      <th>pmHoPrepAttLteIntraF</th>\n",
              "      <th>pmHoExeSuccLteIntraF</th>\n",
              "      <th>...</th>\n",
              "      <th>pmErabRelAbnormalEnbAct</th>\n",
              "      <th>pmErabRelAbnormalMmeAct</th>\n",
              "      <th>pmErabRelAbnormalEnb</th>\n",
              "      <th>pmErabRelNormalEnb</th>\n",
              "      <th>pmErabRelMme</th>\n",
              "      <th>CSSR</th>\n",
              "      <th>INTRA_FREQUENCY_HO</th>\n",
              "      <th>SERVICE_DROP_ALL</th>\n",
              "      <th>TRAFFIC</th>\n",
              "      <th>USER_DL_AVG_THPUT</th>\n",
              "    </tr>\n",
              "  </thead>\n",
              "  <tbody>\n",
              "    <tr>\n",
              "      <th>0</th>\n",
              "      <td>715.0</td>\n",
              "      <td>715.0</td>\n",
              "      <td>0.0</td>\n",
              "      <td>715.0</td>\n",
              "      <td>715.0</td>\n",
              "      <td>612.0</td>\n",
              "      <td>612.0</td>\n",
              "      <td>71.0</td>\n",
              "      <td>71.0</td>\n",
              "      <td>71.0</td>\n",
              "      <td>...</td>\n",
              "      <td>0.0</td>\n",
              "      <td>0.0</td>\n",
              "      <td>0.0</td>\n",
              "      <td>611.0</td>\n",
              "      <td>22.0</td>\n",
              "      <td>100.0</td>\n",
              "      <td>100.0</td>\n",
              "      <td>0.00000</td>\n",
              "      <td>1.06896</td>\n",
              "      <td>13018.92923</td>\n",
              "    </tr>\n",
              "    <tr>\n",
              "      <th>1</th>\n",
              "      <td>604.0</td>\n",
              "      <td>604.0</td>\n",
              "      <td>0.0</td>\n",
              "      <td>604.0</td>\n",
              "      <td>604.0</td>\n",
              "      <td>492.0</td>\n",
              "      <td>492.0</td>\n",
              "      <td>34.0</td>\n",
              "      <td>34.0</td>\n",
              "      <td>34.0</td>\n",
              "      <td>...</td>\n",
              "      <td>1.0</td>\n",
              "      <td>0.0</td>\n",
              "      <td>1.0</td>\n",
              "      <td>492.0</td>\n",
              "      <td>19.0</td>\n",
              "      <td>100.0</td>\n",
              "      <td>100.0</td>\n",
              "      <td>0.19531</td>\n",
              "      <td>0.81765</td>\n",
              "      <td>44462.06152</td>\n",
              "    </tr>\n",
              "    <tr>\n",
              "      <th>2</th>\n",
              "      <td>524.0</td>\n",
              "      <td>524.0</td>\n",
              "      <td>0.0</td>\n",
              "      <td>524.0</td>\n",
              "      <td>524.0</td>\n",
              "      <td>410.0</td>\n",
              "      <td>410.0</td>\n",
              "      <td>18.0</td>\n",
              "      <td>18.0</td>\n",
              "      <td>18.0</td>\n",
              "      <td>...</td>\n",
              "      <td>0.0</td>\n",
              "      <td>0.0</td>\n",
              "      <td>0.0</td>\n",
              "      <td>410.0</td>\n",
              "      <td>17.0</td>\n",
              "      <td>100.0</td>\n",
              "      <td>100.0</td>\n",
              "      <td>0.00000</td>\n",
              "      <td>0.38094</td>\n",
              "      <td>28898.27232</td>\n",
              "    </tr>\n",
              "    <tr>\n",
              "      <th>3</th>\n",
              "      <td>513.0</td>\n",
              "      <td>513.0</td>\n",
              "      <td>0.0</td>\n",
              "      <td>513.0</td>\n",
              "      <td>513.0</td>\n",
              "      <td>405.0</td>\n",
              "      <td>405.0</td>\n",
              "      <td>18.0</td>\n",
              "      <td>18.0</td>\n",
              "      <td>18.0</td>\n",
              "      <td>...</td>\n",
              "      <td>1.0</td>\n",
              "      <td>1.0</td>\n",
              "      <td>1.0</td>\n",
              "      <td>402.0</td>\n",
              "      <td>25.0</td>\n",
              "      <td>100.0</td>\n",
              "      <td>100.0</td>\n",
              "      <td>0.23364</td>\n",
              "      <td>0.27118</td>\n",
              "      <td>20816.61239</td>\n",
              "    </tr>\n",
              "    <tr>\n",
              "      <th>4</th>\n",
              "      <td>638.0</td>\n",
              "      <td>638.0</td>\n",
              "      <td>0.0</td>\n",
              "      <td>638.0</td>\n",
              "      <td>638.0</td>\n",
              "      <td>532.0</td>\n",
              "      <td>532.0</td>\n",
              "      <td>9.0</td>\n",
              "      <td>9.0</td>\n",
              "      <td>9.0</td>\n",
              "      <td>...</td>\n",
              "      <td>1.0</td>\n",
              "      <td>0.0</td>\n",
              "      <td>1.0</td>\n",
              "      <td>525.0</td>\n",
              "      <td>26.0</td>\n",
              "      <td>100.0</td>\n",
              "      <td>100.0</td>\n",
              "      <td>0.18116</td>\n",
              "      <td>0.48338</td>\n",
              "      <td>46380.15241</td>\n",
              "    </tr>\n",
              "  </tbody>\n",
              "</table>\n",
              "<p>5 rows × 21 columns</p>\n",
              "</div>\n",
              "      <button class=\"colab-df-convert\" onclick=\"convertToInteractive('df-433d4452-387b-41db-abe8-1a56d3a772f4')\"\n",
              "              title=\"Convert this dataframe to an interactive table.\"\n",
              "              style=\"display:none;\">\n",
              "        \n",
              "  <svg xmlns=\"http://www.w3.org/2000/svg\" height=\"24px\"viewBox=\"0 0 24 24\"\n",
              "       width=\"24px\">\n",
              "    <path d=\"M0 0h24v24H0V0z\" fill=\"none\"/>\n",
              "    <path d=\"M18.56 5.44l.94 2.06.94-2.06 2.06-.94-2.06-.94-.94-2.06-.94 2.06-2.06.94zm-11 1L8.5 8.5l.94-2.06 2.06-.94-2.06-.94L8.5 2.5l-.94 2.06-2.06.94zm10 10l.94 2.06.94-2.06 2.06-.94-2.06-.94-.94-2.06-.94 2.06-2.06.94z\"/><path d=\"M17.41 7.96l-1.37-1.37c-.4-.4-.92-.59-1.43-.59-.52 0-1.04.2-1.43.59L10.3 9.45l-7.72 7.72c-.78.78-.78 2.05 0 2.83L4 21.41c.39.39.9.59 1.41.59.51 0 1.02-.2 1.41-.59l7.78-7.78 2.81-2.81c.8-.78.8-2.07 0-2.86zM5.41 20L4 18.59l7.72-7.72 1.47 1.35L5.41 20z\"/>\n",
              "  </svg>\n",
              "      </button>\n",
              "      \n",
              "  <style>\n",
              "    .colab-df-container {\n",
              "      display:flex;\n",
              "      flex-wrap:wrap;\n",
              "      gap: 12px;\n",
              "    }\n",
              "\n",
              "    .colab-df-convert {\n",
              "      background-color: #E8F0FE;\n",
              "      border: none;\n",
              "      border-radius: 50%;\n",
              "      cursor: pointer;\n",
              "      display: none;\n",
              "      fill: #1967D2;\n",
              "      height: 32px;\n",
              "      padding: 0 0 0 0;\n",
              "      width: 32px;\n",
              "    }\n",
              "\n",
              "    .colab-df-convert:hover {\n",
              "      background-color: #E2EBFA;\n",
              "      box-shadow: 0px 1px 2px rgba(60, 64, 67, 0.3), 0px 1px 3px 1px rgba(60, 64, 67, 0.15);\n",
              "      fill: #174EA6;\n",
              "    }\n",
              "\n",
              "    [theme=dark] .colab-df-convert {\n",
              "      background-color: #3B4455;\n",
              "      fill: #D2E3FC;\n",
              "    }\n",
              "\n",
              "    [theme=dark] .colab-df-convert:hover {\n",
              "      background-color: #434B5C;\n",
              "      box-shadow: 0px 1px 3px 1px rgba(0, 0, 0, 0.15);\n",
              "      filter: drop-shadow(0px 1px 2px rgba(0, 0, 0, 0.3));\n",
              "      fill: #FFFFFF;\n",
              "    }\n",
              "  </style>\n",
              "\n",
              "      <script>\n",
              "        const buttonEl =\n",
              "          document.querySelector('#df-433d4452-387b-41db-abe8-1a56d3a772f4 button.colab-df-convert');\n",
              "        buttonEl.style.display =\n",
              "          google.colab.kernel.accessAllowed ? 'block' : 'none';\n",
              "\n",
              "        async function convertToInteractive(key) {\n",
              "          const element = document.querySelector('#df-433d4452-387b-41db-abe8-1a56d3a772f4');\n",
              "          const dataTable =\n",
              "            await google.colab.kernel.invokeFunction('convertToInteractive',\n",
              "                                                     [key], {});\n",
              "          if (!dataTable) return;\n",
              "\n",
              "          const docLinkHtml = 'Like what you see? Visit the ' +\n",
              "            '<a target=\"_blank\" href=https://colab.research.google.com/notebooks/data_table.ipynb>data table notebook</a>'\n",
              "            + ' to learn more about interactive tables.';\n",
              "          element.innerHTML = '';\n",
              "          dataTable['output_type'] = 'display_data';\n",
              "          await google.colab.output.renderOutput(dataTable, element);\n",
              "          const docLink = document.createElement('div');\n",
              "          docLink.innerHTML = docLinkHtml;\n",
              "          element.appendChild(docLink);\n",
              "        }\n",
              "      </script>\n",
              "    </div>\n",
              "  </div>\n",
              "  "
            ]
          },
          "metadata": {},
          "execution_count": 17
        }
      ],
      "source": [
        "train_full[0].head()"
      ]
    },
    {
      "cell_type": "code",
      "source": [
        "def scheduler(epoch, lr):\n",
        "  if epoch < 10:\n",
        "    return lr\n",
        "  else:\n",
        "    return lr*tf.math.exp(-0,1)\n",
        "\n",
        "lr_callback = tf.keras.callbacks.LearningRateScheduler(scheduler)\n",
        "\n",
        "checkpoint_filepath = '/tmp/checkpoint'\n",
        "\n",
        "model_checkpoint_callback = tf.keras.callbacks.ModelCheckpoint(\n",
        "    filepath=checkpoint_filepath,\n",
        "    save_weights_only=True,\n",
        "    monitor='val_accuracy',\n",
        "    mode='max',\n",
        "    save_best_only=True)"
      ],
      "metadata": {
        "id": "JuHzJTy0ZRjj"
      },
      "execution_count": null,
      "outputs": []
    },
    {
      "cell_type": "code",
      "execution_count": null,
      "metadata": {
        "id": "Wlom7wrceZbU"
      },
      "outputs": [],
      "source": [
        "MAX_EPOCHS = 50\n",
        "\n",
        "def custom_accuracy(y_true, y_pred, bias=0.05):\n",
        "  return tf.keras.backend.mean(tf.abs(y_true - y_pred)/y_pred <= bias)\n",
        "\n",
        "def compile_and_fit(model, window, patience=2):\n",
        "  early_stopping = tf.keras.callbacks.EarlyStopping(monitor='val_loss',\n",
        "                                                    patience=patience,\n",
        "                                                    mode='auto')\n",
        "  opt = tf.keras.optimizers.SGD(learning_rate=0.001, momentum=0.9)\n",
        "  model.compile(loss=tf.losses.MeanSquaredError(),\n",
        "                optimizer= opt,\n",
        "                metrics=[tf.metrics.MeanAbsoluteError()])\n",
        "\n",
        "  history = model.fit(window.train, epochs=MAX_EPOCHS,\n",
        "                      validation_data=window.val)\n",
        "  return history"
      ]
    },
    {
      "cell_type": "code",
      "source": [
        "import seaborn as sns\n",
        "import pandas as pd\n",
        "import numpy as np\n",
        "from numpy import array\n",
        "import random\n",
        "from random import randint\n",
        "import os\n",
        "import matplotlib.pyplot as plt\n",
        "import pandas as pd\n",
        "import keras\n",
        "from keras.models import Sequential\n",
        "from keras.layers import Dense, Conv1D, Flatten, Activation, MaxPooling1D, Dropout, Reshape\n",
        "#from keras.optimizers import SGD\n",
        "import tensorflow as tf\n",
        "\n",
        "from sklearn.preprocessing import StandardScaler\n",
        "from math import sqrt"
      ],
      "metadata": {
        "id": "AXTbkR1mQZwl"
      },
      "execution_count": null,
      "outputs": []
    },
    {
      "cell_type": "markdown",
      "source": [
        "# DeepAnT"
      ],
      "metadata": {
        "id": "n0OlOopwahy5"
      }
    },
    {
      "cell_type": "code",
      "source": [
        "\"\"\"Hyperparameters\"\"\"\n",
        "w = 24               # History window (number of time stamps taken into account) \n",
        "                         # i.e., filter(kernel) size       \n",
        "p_w = 24*3          # Prediction window (number of time stampes required to be \n",
        "                         # predicted)\n",
        "n_features = 19         # Univariate time series\n",
        "\n",
        "kernel_size = 2          # Size of filter in conv layers\n",
        "num_filt_1 = 32          # Number of filters in first conv layer\n",
        "num_filt_2 = 32          # Number of filters in second conv layer\n",
        "num_nrn_dl = 40          # Number of neurons in dense layer\n",
        "num_nrn_ol = p_w         # Number of neurons in output layer\n",
        "\n",
        "conv_strides = 1\n",
        "pool_size_1 = 2          # Length of window of pooling layer 1\n",
        "pool_size_2 = 2          # Length of window of pooling layer 2\n",
        "pool_strides_1 = 2       # Stride of window of pooling layer 1\n",
        "pool_strides_2 = 2       # Stride of window of pooling layer 2\n",
        "\n",
        "dropout_rate = 0.2       # Dropout rate in the fully connected layer"
      ],
      "metadata": {
        "id": "cDlrNkAyQgpK"
      },
      "execution_count": null,
      "outputs": []
    },
    {
      "cell_type": "code",
      "source": [
        "\"\"\"Generate model for predictor\"\"\"\n",
        "model = Sequential()\n",
        "\n",
        "# Convolutional Layer #1\n",
        "# Computes 32 features using a 1D filter(kernel) of with w with ReLU activation. \n",
        "# Padding is added to preserve width.\n",
        "# Input Tensor Shape: [batch_size, w, 1] / batch_size = len(batch_sample)\n",
        "# Output Tensor Shape: [batch_size, w, num_filt_1] (num_filt_1 = 32 feature vectors)\n",
        "model.add(Conv1D(filters=num_filt_1,\n",
        "                 kernel_size=kernel_size,\n",
        "                 strides=conv_strides,\n",
        "                 padding='valid',\n",
        "                 activation='relu',\n",
        "                 input_shape=(w, n_features)))\n",
        "\n",
        "# Pooling Layer #1\n",
        "# First max pooling layer with a filter of length 2 and stride of 2\n",
        "# Input Tensor Shape: [batch_size, w, num_filt_1]\n",
        "# Output Tensor Shape: [batch_size, 0.5 * w, num_filt_1]\n",
        "\n",
        "model.add(MaxPooling1D(pool_size=pool_size_1)) \n",
        "                    #  strides=pool_strides_1, \n",
        "                    #  padding='valid'))\n",
        "\n",
        "# Convolutional Layer #2\n",
        "# Computes 64 features using a 5x5 filter.\n",
        "# Padding is added to preserve width and height.\n",
        "# Input Tensor Shape: [batch_size, 0.5 * w, 32]\n",
        "# Output Tensor Shape: [batch_size, 0.5 * w, num_filt_1 * num_filt_2]\n",
        "model.add(Conv1D(filters=num_filt_2,\n",
        "                 kernel_size=kernel_size,\n",
        "                 strides=conv_strides,\n",
        "                 padding='valid',\n",
        "                 activation='relu'))\n",
        "\n",
        "# Max Pooling Layer #2\n",
        "# Second max pooling layer with a 2x2 filter and stride of 2\n",
        "# Input Tensor Shape: [batch_size, 0.5 * w, num_filt_1 * num_filt_2]\n",
        "# Output Tensor Shape: [batch_size, 0.25 * w, num_filt_1 * num_filt_2]\n",
        "model.add(MaxPooling1D(pool_size=pool_size_2))\n",
        "                    #  strides=pool_strides_2, \n",
        "                    #  padding='valid'\n",
        "          \n",
        "# Flatten tensor into a batch of vectors\n",
        "# Input Tensor Shape: [batch_size, 0.25 * w, num_filt_1 * num_filt_2]\n",
        "# Output Tensor Shape: [batch_size, 0.25 * w * num_filt_1 * num_filt_2]\n",
        "model.add(Flatten())\n",
        "\n",
        "# Dense Layer (Output layer)\n",
        "# Densely connected layer with 1024 neurons\n",
        "# Input Tensor Shape: [batch_size, 0.25 * w * num_filt_1 * num_filt_2]\n",
        "# Output Tensor Shape: [batch_size, 1024]\n",
        "model.add(Dense(units=num_nrn_dl, activation='relu'))  \n",
        "\n",
        "# Dropout\n",
        "# Prevents overfitting in deep neural networks\n",
        "model.add(Dropout(dropout_rate))\n",
        "\n",
        "# Output layer\n",
        "# Input Tensor Shape: [batch_size, 1024]\n",
        "# Output Tensor Shape: [batch_size, p_w]\n",
        "model.add(Dense(units=num_nrn_ol))\n",
        "model.add(Reshape([24, 3]))\n",
        "\n",
        "# Summarize model structure\n",
        "model.summary()"
      ],
      "metadata": {
        "colab": {
          "base_uri": "https://localhost:8080/"
        },
        "id": "ClOPMDKSQPbs",
        "outputId": "aca1fa92-062c-4a0a-acf6-cfa237e89074"
      },
      "execution_count": null,
      "outputs": [
        {
          "output_type": "stream",
          "name": "stdout",
          "text": [
            "Model: \"sequential\"\n",
            "_________________________________________________________________\n",
            " Layer (type)                Output Shape              Param #   \n",
            "=================================================================\n",
            " conv1d (Conv1D)             (None, 23, 32)            1248      \n",
            "                                                                 \n",
            " max_pooling1d (MaxPooling1D  (None, 11, 32)           0         \n",
            " )                                                               \n",
            "                                                                 \n",
            " conv1d_1 (Conv1D)           (None, 10, 32)            2080      \n",
            "                                                                 \n",
            " max_pooling1d_1 (MaxPooling  (None, 5, 32)            0         \n",
            " 1D)                                                             \n",
            "                                                                 \n",
            " flatten (Flatten)           (None, 160)               0         \n",
            "                                                                 \n",
            " dense (Dense)               (None, 40)                6440      \n",
            "                                                                 \n",
            " dropout (Dropout)           (None, 40)                0         \n",
            "                                                                 \n",
            " dense_1 (Dense)             (None, 72)                2952      \n",
            "                                                                 \n",
            " reshape (Reshape)           (None, 24, 3)             0         \n",
            "                                                                 \n",
            "=================================================================\n",
            "Total params: 12,720\n",
            "Trainable params: 12,720\n",
            "Non-trainable params: 0\n",
            "_________________________________________________________________\n"
          ]
        }
      ]
    },
    {
      "cell_type": "code",
      "source": [
        "history = compile_and_fit(model, multi_window)\n",
        "\n",
        "IPython.display.clear_output()\n",
        "\n",
        "multi_val_performance['DeepAnT'] = model.evaluate(multi_window.val)\n",
        "multi_performance['DeepAnT'] = model.evaluate(multi_window.test, verbose=0)"
      ],
      "metadata": {
        "colab": {
          "base_uri": "https://localhost:8080/"
        },
        "id": "jBMPYYACRAWU",
        "outputId": "98351da7-633d-4225-c6f3-3086797409ff"
      },
      "execution_count": null,
      "outputs": [
        {
          "output_type": "stream",
          "name": "stdout",
          "text": [
            "1957/1957 [==============================] - 25s 9ms/step - loss: 0.9193 - mean_absolute_error: 0.2512\n"
          ]
        }
      ]
    },
    {
      "cell_type": "code",
      "source": [
        "multi_window.plot(model, 'CSSR')"
      ],
      "metadata": {
        "colab": {
          "base_uri": "https://localhost:8080/",
          "height": 549
        },
        "id": "dJIFsdKKXl7P",
        "outputId": "61503388-8988-4758-dde3-c9a56ea0bad3"
      },
      "execution_count": null,
      "outputs": [
        {
          "output_type": "stream",
          "name": "stdout",
          "text": [
            "(32, 24, 3)\n",
            "(32, 24, 3)\n",
            "(32, 24, 3)\n"
          ]
        },
        {
          "output_type": "display_data",
          "data": {
            "text/plain": [
              "<Figure size 864x576 with 3 Axes>"
            ],
            "image/png": "[encoded data removed]"
          },
          "metadata": {
            "needs_background": "light"
          }
        }
      ]
    },
    {
      "cell_type": "code",
      "source": [
        "multi_window.plot(model, 'INTRA_FREQUENCY_HO')"
      ],
      "metadata": {
        "id": "vCZSxWF7X0p7",
        "colab": {
          "base_uri": "https://localhost:8080/",
          "height": 567
        },
        "outputId": "5f9f9cd6-db5f-4fa2-965f-b86630756cb1"
      },
      "execution_count": null,
      "outputs": [
        {
          "output_type": "stream",
          "name": "stdout",
          "text": [
            "(32, 24, 3)\n",
            "(32, 24, 3)\n",
            "(32, 24, 3)\n"
          ]
        },
        {
          "output_type": "display_data",
          "data": {
            "text/plain": [
              "<Figure size 864x576 with 3 Axes>"
            ],
            "image/png": "[encoded data removed]"
          },
          "metadata": {
            "needs_background": "light"
          }
        }
      ]
    },
    {
      "cell_type": "code",
      "source": [
        "multi_window.plot(model, 'SERVICE_DROP_ALL')"
      ],
      "metadata": {
        "id": "sDhG3kRpX69s",
        "colab": {
          "base_uri": "https://localhost:8080/",
          "height": 559
        },
        "outputId": "0a7f7a27-4add-4f02-9ac9-70e1b4263b74"
      },
      "execution_count": null,
      "outputs": [
        {
          "output_type": "stream",
          "name": "stdout",
          "text": [
            "(32, 24, 3)\n",
            "(32, 24, 3)\n",
            "(32, 24, 3)\n"
          ]
        },
        {
          "output_type": "display_data",
          "data": {
            "text/plain": [
              "<Figure size 864x576 with 3 Axes>"
            ],
            "image/png": "[encoded data removed]"
          },
          "metadata": {
            "needs_background": "light"
          }
        }
      ]
    },
    {
      "cell_type": "markdown",
      "source": [
        "# LSTM "
      ],
      "metadata": {
        "id": "wDW0UjuEanAq"
      }
    },
    {
      "cell_type": "markdown",
      "metadata": {
        "id": "02oR0y6e0oKe"
      },
      "source": [
        "**LSTM**"
      ]
    },
    {
      "cell_type": "code",
      "execution_count": null,
      "metadata": {
        "id": "_CuQg4WruHiP"
      },
      "outputs": [],
      "source": [
        "multi_lstm_model = tf.keras.Sequential([\n",
        "    # Shape [batch, time, features] => [batch, lstm_units].\n",
        "    # Adding more `lstm_units` just overfits more quickly.\n",
        "    tf.keras.layers.LSTM(12,activation=\"relu\"),\n",
        "    # Shape => [batch, out_steps*features].\n",
        "    tf.keras.layers.Dense(OUT_STEPS*num_output, activation='relu'),\n",
        "    # Shape => [batch, out_steps, features].\n",
        "    tf.keras.layers.Reshape([OUT_STEPS, num_output])\n",
        "])\n",
        "\n",
        "history = compile_and_fit(multi_lstm_model, multi_window)\n",
        "\n",
        "IPython.display.clear_output()\n",
        "\n",
        "multi_val_performance['LSTM'] = multi_lstm_model.evaluate(multi_window.val)\n",
        "multi_performance['LSTM'] = multi_lstm_model.evaluate(multi_window.test, verbose=0)"
      ]
    },
    {
      "cell_type": "markdown",
      "source": [
        "# New Section"
      ],
      "metadata": {
        "id": "ghO7dsf5XsW8"
      }
    },
    {
      "cell_type": "markdown",
      "source": [
        "# New Section"
      ],
      "metadata": {
        "id": "1P8mt8tlXvAt"
      }
    },
    {
      "cell_type": "code",
      "execution_count": null,
      "metadata": {
        "id": "3ndc0P5TeaAY"
      },
      "outputs": [],
      "source": [
        "multi_window.plot(multi_lstm_model, 'CSSR')"
      ]
    },
    {
      "cell_type": "code",
      "execution_count": null,
      "metadata": {
        "id": "DmetRwZDevr3"
      },
      "outputs": [],
      "source": [
        "multi_window.plot(multi_lstm_model, 'INTRA_FREQUENCY_HO')"
      ]
    },
    {
      "cell_type": "code",
      "source": [
        "multi_window.plot(multi_lstm_model, 'SERVICE_DROP_ALL')"
      ],
      "metadata": {
        "id": "HGHp0EeDG1S_"
      },
      "execution_count": null,
      "outputs": []
    },
    {
      "cell_type": "markdown",
      "metadata": {
        "id": "mokjp21h0qo9"
      },
      "source": [
        "**AR LSTM**"
      ]
    },
    {
      "cell_type": "code",
      "execution_count": null,
      "metadata": {
        "id": "8CINsUD8uQz9"
      },
      "outputs": [],
      "source": [
        "class FeedBack(tf.keras.Model):\n",
        "  def __init__(self, units, out_steps):\n",
        "    super().__init__()\n",
        "    self.out_steps = out_steps\n",
        "    self.units = units\n",
        "    self.lstm_cell = tf.keras.layers.LSTMCell(units)\n",
        "    # Also wrap the LSTMCell in an RNN to simplify the `warmup` method.\n",
        "    self.lstm_rnn = tf.keras.layers.RNN(self.lstm_cell, return_state=True)\n",
        "    self.dense = tf.keras.layers.Dense(num_features)\n",
        "\n",
        "feedback_model = FeedBack(units=32, out_steps=OUT_STEPS)\n",
        "\n",
        "def warmup(self, inputs):\n",
        "  # inputs.shape => (batch, time, features)\n",
        "  # x.shape => (batch, lstm_units)\n",
        "  x, *state = self.lstm_rnn(inputs)\n",
        "\n",
        "  # predictions.shape => (batch, features)\n",
        "  prediction = self.dense(x)\n",
        "  return prediction, state\n",
        "\n",
        "FeedBack.warmup = warmup\n",
        "\n",
        "prediction, state = feedback_model.warmup(multi_window.example[0])\n",
        "prediction.shape\n",
        "\n",
        "def call(self, inputs, training=None):\n",
        "  # Use a TensorArray to capture dynamically unrolled outputs.\n",
        "  predictions = []\n",
        "  # Initialize the LSTM state.\n",
        "  prediction, state = self.warmup(inputs)\n",
        "\n",
        "  # Insert the first prediction.\n",
        "  predictions.append(prediction)\n",
        "\n",
        "  # Run the rest of the prediction steps.\n",
        "  for n in range(1, self.out_steps):\n",
        "    # Use the last prediction as input.\n",
        "    x = prediction\n",
        "    # Execute one lstm step.\n",
        "    x, state = self.lstm_cell(x, states=state,\n",
        "                              training=training)\n",
        "    # Convert the lstm output to a prediction.\n",
        "    prediction = self.dense(x)\n",
        "    # Add the prediction to the output.\n",
        "    predictions.append(prediction)\n",
        "\n",
        "  # predictions.shape => (time, batch, features)\n",
        "  predictions = tf.stack(predictions)\n",
        "  # predictions.shape => (batch, time, features)\n",
        "  predictions = tf.transpose(predictions, [1, 0, 2])\n",
        "  return predictions\n",
        "\n",
        "FeedBack.call = call"
      ]
    },
    {
      "cell_type": "code",
      "execution_count": null,
      "metadata": {
        "id": "LLvoXQlZuvEq"
      },
      "outputs": [],
      "source": [
        "history = compile_and_fit(feedback_model, multi_window)\n",
        "\n",
        "IPython.display.clear_output()\n",
        "\n",
        "multi_val_performance['AR LSTM'] = feedback_model.evaluate(multi_window.val)\n",
        "multi_performance['AR LSTM'] = feedback_model.evaluate(multi_window.test, verbose=0)\n"
      ]
    },
    {
      "cell_type": "markdown",
      "metadata": {
        "id": "E1TF7n9y0u4V"
      },
      "source": [
        "**Residual LSTM**"
      ]
    },
    {
      "cell_type": "code",
      "execution_count": null,
      "metadata": {
        "id": "2KozzrTSt85r"
      },
      "outputs": [],
      "source": [
        "class ResidualWrapper(tf.keras.Model):\n",
        "  def __init__(self, model):\n",
        "    super().__init__()\n",
        "    self.model = model\n",
        "\n",
        "  def call(self, inputs, *args, **kwargs):\n",
        "    delta = self.model(inputs, *args, **kwargs)\n",
        "\n",
        "    # The prediction for each time step is the input\n",
        "    # from the previous time step plus the delta\n",
        "    # calculated by the model.\n",
        "    return inputs + delta"
      ]
    },
    {
      "cell_type": "code",
      "execution_count": null,
      "metadata": {
        "id": "xTdZfIaeu2Ny"
      },
      "outputs": [],
      "source": [
        "residual_multi_lstm_model = ResidualWrapper(\n",
        "    tf.keras.Sequential([\n",
        "    # Shape [batch, time, features] => [batch, lstm_units].\n",
        "    # Adding more `lstm_units` just overfits more quickly.\n",
        "    tf.keras.layers.LSTM(24, return_sequences=False),\n",
        "    # Shape => [batch, out_steps*features].\n",
        "    tf.keras.layers.Dense(OUT_STEPS*num_output,\n",
        "                          kernel_initializer=tf.initializers.zeros()),\n",
        "    # Shape => [batch, out_steps, features].\n",
        "    tf.keras.layers.Reshape([OUT_STEPS, num_output])\n",
        "]))\n",
        "\n",
        "history = compile_and_fit(residual_multi_lstm_model, multi_window)\n",
        "\n",
        "IPython.display.clear_output()\n",
        "multi_val_performance['Residual LSTM'] = residual_multi_lstm_model.evaluate(multi_window.val)\n",
        "multi_performance['Residual LSTM'] = residual_multi_lstm_model.evaluate(multi_window.test, verbose=0)"
      ]
    },
    {
      "cell_type": "code",
      "source": [
        "multi_window.plot(residual_multi_lstm_model, 'cssr')"
      ],
      "metadata": {
        "id": "GGNN5xVLmKfD"
      },
      "execution_count": null,
      "outputs": []
    },
    {
      "cell_type": "markdown",
      "source": [
        "Attention"
      ],
      "metadata": {
        "id": "CRAZiJn3y5js"
      }
    },
    {
      "cell_type": "code",
      "source": [
        "# Add attention layer to the deep learning network\n",
        "class attention(tf.keras.layers.Layer):\n",
        "    def __init__(self,**kwargs):\n",
        "        super(attention,self).__init__(**kwargs)\n",
        "\n",
        "    def build(self,input_shape):\n",
        "        self.W=self.add_weight(name='attention_weight', shape=(input_shape[-1],1), \n",
        "                               initializer='random_normal', trainable=True)\n",
        "        self.b=self.add_weight(name='attention_bias', shape=(input_shape[1],1), \n",
        "                               initializer='zeros', trainable=True)        \n",
        "        super(attention, self).build(input_shape)\n",
        "\n",
        "    def call(self,x):\n",
        "        # Alignment scores. Pass them through tanh function\n",
        "        e = tf.keras.backend.tanh(tf.keras.backend.dot(x,self.W)+self.b)\n",
        "        # Remove dimension of size 1\n",
        "        e = tf.keras.backend.squeeze(e, axis=-1)   \n",
        "        # Compute the weights\n",
        "        alpha = tf.keras.backend.softmax(e)\n",
        "        # Reshape to tensorFlow format\n",
        "        alpha = tf.keras.backend.expand_dims(alpha, axis=-1)\n",
        "        # Compute the context vector\n",
        "        context = x * alpha\n",
        "        context = tf.keras.backend.sum(context, axis=1)\n",
        "        return context"
      ],
      "metadata": {
        "id": "cjCvRVvA8nQb"
      },
      "execution_count": null,
      "outputs": []
    },
    {
      "cell_type": "code",
      "source": [
        "def create_lstm_with_attention(hidden_units, dense_units, input_shape, activation):\n",
        "    x= tf.keras.layers.Input(shape=input_shape)\n",
        "    lstm_layer =  tf.keras.layers.LSTM (hidden_units, return_sequences=True, activation=activation)(x)\n",
        "    attention_layer = attention()(lstm_layer)\n",
        "    outputs=tf.keras.layers.Dense(dense_units*num_features, trainable=True,  kernel_initializer=tf.initializers.zeros()),  activation=activation)(attention_layer)\n",
        "    model=tf.keras.Model(x,outputs)\n",
        "    return model  "
      ],
      "metadata": {
        "id": "ybsGyBN49XYo"
      },
      "execution_count": null,
      "outputs": []
    },
    {
      "cell_type": "code",
      "source": [
        "multi_attention_lstm_model = tf.keras.Sequential([\n",
        "    # Shape [batch, time, features] => [batch, lstm_units].\n",
        "    # Adding more `lstm_units` just overfits more quickly.\n",
        "    tf.keras.layers.LSTM(24, return_sequences=False),\n",
        "    attention(),\n",
        "    # Shape => [batch, out_steps*features].\n",
        "    tf.keras.layers.Dense(OUT_STEPS*num_features,\n",
        "                          kernel_initializer=tf.initializers.zeros()),\n",
        "    # Shape => [batch, out_steps, features].\n",
        "    tf.keras.layers.Reshape([OUT_STEPS, num_features])\n",
        "])"
      ],
      "metadata": {
        "id": "VCWbdLO32Di5"
      },
      "execution_count": null,
      "outputs": []
    },
    {
      "cell_type": "code",
      "source": [
        "history = compile_and_fit(multi_attention_lstm_model, multi_window)\n",
        "\n",
        "IPython.display.clear_output()\n",
        "\n",
        "multi_val_performance['Attention LSTM'] = multi_attention_lstm_model.evaluate(multi_window.val)\n",
        "multi_performance['Attention LSTM'] = multi_attention_lstm_model.evaluate(multi_window.test, verbose=0)\n",
        "multi_window.plot(multi_attention_lstm_model, 'cssr')"
      ],
      "metadata": {
        "id": "ilYXe2-76lKR"
      },
      "execution_count": null,
      "outputs": []
    },
    {
      "cell_type": "markdown",
      "metadata": {
        "id": "fSuGdaiy30zh"
      },
      "source": [
        "***Loss Visualization***"
      ]
    },
    {
      "cell_type": "code",
      "execution_count": null,
      "metadata": {
        "id": "VtM80tAku9yK"
      },
      "outputs": [],
      "source": [
        "x = np.arange(len(multi_performance))\n",
        "width = 0.3\n",
        "\n",
        "metric_name = 'mean_absolute_error'\n",
        "metric_index = feedback_model.metrics_names.index('mean_absolute_error')\n",
        "val_mae = [v[metric_index] for v in multi_val_performance.values()]\n",
        "test_mae = [v[metric_index] for v in multi_performance.values()]\n",
        "\n",
        "plt.bar(x - 0.17, val_mae, width, label='Validation')\n",
        "plt.bar(x + 0.17, test_mae, width, label='Test')\n",
        "plt.xticks(ticks=x, labels=multi_performance.keys(),\n",
        "           rotation=45)\n",
        "plt.ylabel(f'MAE (average over all times and outputs)')\n",
        "_ = plt.legend()"
      ]
    }
  ],
  "metadata": {
    "accelerator": "GPU",
    "colab": {
      "collapsed_sections": [],
      "name": "vnpt_time_series.ipynb",
      "provenance": [],
      "toc_visible": true,
      "include_colab_link": true
    },
    "kernelspec": {
      "display_name": "Python 3",
      "name": "python3"
    },
    "language_info": {
      "name": "python"
    }
  },
  "nbformat": 4,
  "nbformat_minor": 0
}